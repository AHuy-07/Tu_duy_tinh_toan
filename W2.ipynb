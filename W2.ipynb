{
 "cells": [
  {
   "cell_type": "code",
   "execution_count": 41,
   "id": "7968f57c-4b15-4894-afc4-8fb3e97344ba",
   "metadata": {},
   "outputs": [
    {
     "name": "stdout",
     "output_type": "stream",
     "text": [
      "Hello World!\n"
     ]
    }
   ],
   "source": [
    "#W2A1\n",
    "print(\"Hello World!\")"
   ]
  },
  {
   "cell_type": "code",
   "execution_count": 42,
   "id": "f645ab8d-f7d2-466b-813f-d66aa98a8cd4",
   "metadata": {},
   "outputs": [
    {
     "name": "stdin",
     "output_type": "stream",
     "text": [
      " huy\n"
     ]
    },
    {
     "name": "stdout",
     "output_type": "stream",
     "text": [
      "Hello huy\n"
     ]
    }
   ],
   "source": [
    "#W2A2\n",
    "x = input()\n",
    "print(\"Hello \" + x)"
   ]
  },
  {
   "cell_type": "code",
   "execution_count": 45,
   "id": "a5850cd8-2f24-4d3b-9068-e3f2e2e04bf4",
   "metadata": {},
   "outputs": [
    {
     "name": "stdin",
     "output_type": "stream",
     "text": [
      " 1 3\n"
     ]
    },
    {
     "name": "stdout",
     "output_type": "stream",
     "text": [
      "4\n",
      "-2\n",
      "3\n",
      "0\n",
      "1\n",
      "0.33\n"
     ]
    }
   ],
   "source": [
    "#W2A3\n",
    "a, b = map(int, input().split())\n",
    "print(a + b)\n",
    "print(a - b)\n",
    "print(a * b)\n",
    "print(a // b)\n",
    "print(a % b)\n",
    "print(f\"{(a / b):.2f}\")"
   ]
  },
  {
   "cell_type": "code",
   "execution_count": 39,
   "id": "3eea188b-baed-4873-bd00-4c131ffe1cdf",
   "metadata": {},
   "outputs": [
    {
     "name": "stdin",
     "output_type": "stream",
     "text": [
      " 1 2 3 4 5 6\n"
     ]
    },
    {
     "name": "stdout",
     "output_type": "stream",
     "text": [
      "4.2\n"
     ]
    }
   ],
   "source": [
    "#W2A4\n",
    "a1, b1, c1, a2, b2, a3 = map(int, input().split())\n",
    "s = ((a1 + b1 + c1) + (a2 + b2) * 2 + a3 * 3) / 10\n",
    "print(round(s, 1))"
   ]
  },
  {
   "cell_type": "code",
   "execution_count": 40,
   "id": "aa104dd3-262b-4ee5-86f0-b5f6dcc3e80c",
   "metadata": {},
   "outputs": [
    {
     "name": "stdin",
     "output_type": "stream",
     "text": [
      " 1 2\n"
     ]
    },
    {
     "name": "stdout",
     "output_type": "stream",
     "text": [
      "1\n"
     ]
    }
   ],
   "source": [
    "#W2A5\n",
    "a, b = map(int, input().split())\n",
    "print(a ** b)"
   ]
  },
  {
   "cell_type": "code",
   "execution_count": 11,
   "id": "32f384ec-ed80-49a0-ab35-5fa743ac5914",
   "metadata": {},
   "outputs": [
    {
     "name": "stdin",
     "output_type": "stream",
     "text": [
      " a\n"
     ]
    },
    {
     "name": "stdout",
     "output_type": "stream",
     "text": [
      "97\n",
      "A\n"
     ]
    }
   ],
   "source": [
    "#W2A6\n",
    "a = input()\n",
    "print(ord(a))\n",
    "print(chr(ord(a) - ord(' ')))"
   ]
  },
  {
   "cell_type": "code",
   "execution_count": 13,
   "id": "290bbff7-ff82-43dd-97de-e687c7f26f4d",
   "metadata": {},
   "outputs": [
    {
     "name": "stdout",
     "output_type": "stream",
     "text": [
      "512\n",
      "4826814\n"
     ]
    }
   ],
   "source": [
    "#W2A7\n",
    "A = ((13 ** 2) * 3) + 5\n",
    "B = 13 ** (2 * 3) + 5\n",
    "print(A)\n",
    "print(B)"
   ]
  },
  {
   "cell_type": "code",
   "execution_count": 31,
   "id": "52efcbcf-3a51-4fb8-90b5-aa7c721fdaed",
   "metadata": {},
   "outputs": [
    {
     "name": "stdin",
     "output_type": "stream",
     "text": [
      " 12.43\n"
     ]
    },
    {
     "name": "stdout",
     "output_type": "stream",
     "text": [
      "54.37\n"
     ]
    }
   ],
   "source": [
    "#W2A8\n",
    "c = float(input())\n",
    "f = 9/5 * c + 32\n",
    "print(f\"{f:.2f}\")"
   ]
  },
  {
   "cell_type": "code",
   "execution_count": 30,
   "id": "da2d5daf-174e-4f73-809c-4e532f6dc3fc",
   "metadata": {},
   "outputs": [
    {
     "name": "stdin",
     "output_type": "stream",
     "text": [
      " 2\n"
     ]
    },
    {
     "name": "stdout",
     "output_type": "stream",
     "text": [
      "12.80\n"
     ]
    }
   ],
   "source": [
    "#W2A9\n",
    "x = float(input())\n",
    "x = x + 30/100 * x + 10/100 * x + 10\n",
    "print(f\"{x:.2f}\")"
   ]
  },
  {
   "cell_type": "code",
   "execution_count": null,
   "id": "549493ce-d584-46ba-93a7-18ef35858c9d",
   "metadata": {},
   "outputs": [],
   "source": [
    "#W2A10\n",
    "a, b, c = input().split()\n",
    "print(f\"Hello {c}, {b} and {a}.\")"
   ]
  },
  {
   "cell_type": "code",
   "execution_count": 34,
   "id": "97bc808b-cf86-4612-8722-3a089bac0616",
   "metadata": {},
   "outputs": [
    {
     "name": "stdin",
     "output_type": "stream",
     "text": [
      " 2 3\n"
     ]
    },
    {
     "name": "stdout",
     "output_type": "stream",
     "text": [
      "7200 180\n"
     ]
    }
   ],
   "source": [
    "#W2A11\n",
    "h, m = map(int, input().split())\n",
    "print(h * 3600, m * 60)"
   ]
  },
  {
   "cell_type": "code",
   "execution_count": 36,
   "id": "a9ae5782-4bb7-4520-b526-d47b3e24d0d2",
   "metadata": {},
   "outputs": [
    {
     "name": "stdin",
     "output_type": "stream",
     "text": [
      " 2\n"
     ]
    },
    {
     "name": "stdout",
     "output_type": "stream",
     "text": [
      "24\n"
     ]
    }
   ],
   "source": [
    "#W2A12\n",
    "a = int(input())\n",
    "print(a ** 2 * 6)"
   ]
  },
  {
   "cell_type": "code",
   "execution_count": 37,
   "id": "6deb3c21-a5f9-4aea-9c51-ad77b94213b2",
   "metadata": {},
   "outputs": [
    {
     "name": "stdin",
     "output_type": "stream",
     "text": [
      " 4 6\n"
     ]
    },
    {
     "name": "stdout",
     "output_type": "stream",
     "text": [
      "4\n"
     ]
    }
   ],
   "source": [
    "#W2A13\n",
    "a, b = map(int, input().split())\n",
    "print(a * b % 10)"
   ]
  },
  {
   "cell_type": "code",
   "execution_count": 52,
   "id": "55cad8d3-fb3e-4103-b227-1e9b8576c70e",
   "metadata": {},
   "outputs": [
    {
     "name": "stdin",
     "output_type": "stream",
     "text": [
      " 1 3\n"
     ]
    },
    {
     "name": "stdout",
     "output_type": "stream",
     "text": [
      "3 1\n"
     ]
    }
   ],
   "source": [
    "#W2A14\n",
    "x, y = map(int, input().split())\n",
    "x = x ^ y\n",
    "y = x ^ y\n",
    "x = x ^ y\n",
    "print(f\"{x} {y}\")"
   ]
  },
  {
   "cell_type": "code",
   "execution_count": 33,
   "id": "909d901d-40bb-4802-963d-4a6d24d077b6",
   "metadata": {},
   "outputs": [
    {
     "name": "stdin",
     "output_type": "stream",
     "text": [
      " 10\n"
     ]
    },
    {
     "name": "stdout",
     "output_type": "stream",
     "text": [
      "541\n"
     ]
    }
   ],
   "source": [
    "#W2A15\n",
    "n = int(input())\n",
    "a = 1;\n",
    "for i in range(2, n + 1):\n",
    "    a += ((i * 2) - 2) * 6\n",
    "print(a);"
   ]
  },
  {
   "cell_type": "code",
   "execution_count": 38,
   "id": "e95b8aec-81dc-43ff-a11e-9131a1039062",
   "metadata": {},
   "outputs": [
    {
     "name": "stdout",
     "output_type": "stream",
     "text": [
      "Spring\n",
      "Summer\n",
      "Autumn\n",
      "Winter\n"
     ]
    }
   ],
   "source": [
    "#W2A16\n",
    "x =[\"Spring\", \"Summer\", \"Autumn\", \"Winter\"]\n",
    "for i in x:\n",
    "    print(i, end = \"\\n\")"
   ]
  },
  {
   "cell_type": "code",
   "execution_count": 50,
   "id": "8b0824d1-af6f-42a3-b856-f550d534f523",
   "metadata": {},
   "outputs": [
    {
     "name": "stdout",
     "output_type": "stream",
     "text": [
      "*\n",
      "***\n",
      "*****\n"
     ]
    }
   ],
   "source": [
    "#W2A17\n",
    "for i in range (1, 6, 2):\n",
    "    print(\"*\"*i)"
   ]
  },
  {
   "cell_type": "code",
   "execution_count": 46,
   "id": "379cf59f-6a41-4baa-b106-1bc1dbd5d8da",
   "metadata": {},
   "outputs": [
    {
     "name": "stdout",
     "output_type": "stream",
     "text": [
      "###   # #     ###  ###\n",
      " #    #   #    #    #\n",
      " #    #    #   #    #\n",
      " #    #   #    #    #\n",
      " #    # #      #    #\n"
     ]
    }
   ],
   "source": [
    "#W2A18\n",
    "a =[\"###   # #     ###  ###\",\n",
    "    \" #    #   #    #    #\", \n",
    "    \" #    #    #   #    #\", \n",
    "    \" #    #   #    #    #\", \n",
    "    \" #    # #      #    #\"]\n",
    "for i in a:\n",
    "    print(i)"
   ]
  },
  {
   "cell_type": "code",
   "execution_count": 47,
   "id": "352b7da7-3154-4dd6-8a73-3b261b26a8ce",
   "metadata": {},
   "outputs": [
    {
     "name": "stdout",
     "output_type": "stream",
     "text": [
      "Monday\n",
      "Tuesday\n",
      "Wednesday\n",
      "Thursday\n",
      "Friday\n",
      "Saturday\n",
      "Sunday\n"
     ]
    }
   ],
   "source": [
    "#W2A19\n",
    "import calendar\n",
    "for i in range(0, 7):\n",
    "    print(calendar.day_name[i])"
   ]
  },
  {
   "cell_type": "code",
   "execution_count": 48,
   "id": "161d5423-cf6a-4448-add9-9cb51ebb8f78",
   "metadata": {},
   "outputs": [
    {
     "name": "stdout",
     "output_type": "stream",
     "text": [
      "January\n",
      "February\n",
      "March\n",
      "April\n",
      "May\n",
      "June\n",
      "July\n",
      "August\n",
      "September\n",
      "October\n",
      "November\n",
      "December\n"
     ]
    }
   ],
   "source": [
    "#W2A20\n",
    "import calendar\n",
    "for i in range(1, 13):\n",
    "    print(calendar.month_name[i])"
   ]
  },
  {
   "cell_type": "code",
   "execution_count": 49,
   "id": "0f241a1c-c5fa-4640-ba1f-5fcc496fc5d1",
   "metadata": {},
   "outputs": [
    {
     "name": "stdout",
     "output_type": "stream",
     "text": [
      "Hello, world\n",
      "Hello, world\n",
      "Hello, world\n",
      "Hello, world\n",
      "Hello, world\n",
      "Hello, world\n",
      "Hello, world\n",
      "Hello, world\n",
      "Hello, world\n",
      "Hello, world\n"
     ]
    }
   ],
   "source": [
    "#W2A21\n",
    "for i in range (10) :\n",
    "    print(\"Hello, world\")"
   ]
  },
  {
   "cell_type": "code",
   "execution_count": null,
   "id": "b6a56a93-0d7e-4504-9f0a-6351bfa07c9a",
   "metadata": {},
   "outputs": [],
   "source": []
  }
 ],
 "metadata": {
  "kernelspec": {
   "display_name": "Python [conda env:base] *",
   "language": "python",
   "name": "conda-base-py"
  },
  "language_info": {
   "codemirror_mode": {
    "name": "ipython",
    "version": 3
   },
   "file_extension": ".py",
   "mimetype": "text/x-python",
   "name": "python",
   "nbconvert_exporter": "python",
   "pygments_lexer": "ipython3",
   "version": "3.13.5"
  }
 },
 "nbformat": 4,
 "nbformat_minor": 5
}
