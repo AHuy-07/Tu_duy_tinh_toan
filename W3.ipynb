{
 "cells": [
  {
   "cell_type": "code",
   "execution_count": 2,
   "id": "6d5bc3c1-3947-4a15-969e-75fd21dc8135",
   "metadata": {},
   "outputs": [
    {
     "name": "stdin",
     "output_type": "stream",
     "text": [
      " 123\n"
     ]
    },
    {
     "name": "stdout",
     "output_type": "stream",
     "text": [
      "321\n"
     ]
    }
   ],
   "source": [
    "#1\n",
    "n = int(input())\n",
    "res = 0\n",
    "while(n > 0):\n",
    "    res += n%10\n",
    "    n //= 10\n",
    "    res *= 10\n",
    "print(res//10)"
   ]
  },
  {
   "cell_type": "code",
   "execution_count": 3,
   "id": "2b2314d5-9488-4b83-a762-8f9c4332aa8a",
   "metadata": {},
   "outputs": [
    {
     "name": "stdin",
     "output_type": "stream",
     "text": [
      " 2 4\n"
     ]
    },
    {
     "name": "stdout",
     "output_type": "stream",
     "text": [
      "4 2\n"
     ]
    }
   ],
   "source": [
    "#2\n",
    "a, b = map(int, input().split())\n",
    "a = a ^ b\n",
    "b = a ^ b\n",
    "a = a ^ b\n",
    "print(f\"{a} {b}\")"
   ]
  },
  {
   "cell_type": "code",
   "execution_count": 5,
   "id": "ebba2ffe-af34-4191-a2c1-115af70a9d53",
   "metadata": {},
   "outputs": [
    {
     "name": "stdin",
     "output_type": "stream",
     "text": [
      " 4\n"
     ]
    },
    {
     "name": "stdout",
     "output_type": "stream",
     "text": [
      "True\n"
     ]
    }
   ],
   "source": [
    "#3\n",
    "a = int(input())\n",
    "if(a & (a - 1) == 0):\n",
    "    print(\"True\")\n",
    "else: print(\"False\")\n"
   ]
  },
  {
   "cell_type": "code",
   "execution_count": 7,
   "id": "fe4e6355-c947-47c5-a3a5-14d7e2924f95",
   "metadata": {},
   "outputs": [
    {
     "name": "stdin",
     "output_type": "stream",
     "text": [
      " 2323 45\n"
     ]
    },
    {
     "name": "stdout",
     "output_type": "stream",
     "text": [
      "51\n"
     ]
    }
   ],
   "source": [
    "#4\n",
    "m, n = map(int, input().split())\n",
    "m //= n;\n",
    "print(m)"
   ]
  },
  {
   "cell_type": "code",
   "execution_count": 12,
   "id": "3883d731-17b3-45c9-b760-ee9b4b1d0b79",
   "metadata": {},
   "outputs": [
    {
     "name": "stdin",
     "output_type": "stream",
     "text": [
      " 2323 45\n"
     ]
    },
    {
     "name": "stdout",
     "output_type": "stream",
     "text": [
      "52\n"
     ]
    }
   ],
   "source": [
    "#5\n",
    "m, n = map(int, input().split())\n",
    "res = m // n;\n",
    "print(res + (m % n != 0))"
   ]
  },
  {
   "cell_type": "code",
   "execution_count": 18,
   "id": "eb294f8e-085a-4d9f-bdc4-0853505c7c71",
   "metadata": {},
   "outputs": [
    {
     "name": "stdin",
     "output_type": "stream",
     "text": [
      " 6\n"
     ]
    },
    {
     "name": "stdout",
     "output_type": "stream",
     "text": [
      "Even\n"
     ]
    }
   ],
   "source": [
    "#6\n",
    "n = int(input())\n",
    "if(n % 2): print(\"Odd\")\n",
    "else: print(\"Even\")"
   ]
  },
  {
   "cell_type": "code",
   "execution_count": 26,
   "id": "c487e020-e6c6-4c53-aef6-01f4f61a0e73",
   "metadata": {},
   "outputs": [
    {
     "name": "stdin",
     "output_type": "stream",
     "text": [
      " 0 0\n"
     ]
    },
    {
     "name": "stdout",
     "output_type": "stream",
     "text": [
      "No\n"
     ]
    }
   ],
   "source": [
    "#7\n",
    "m, n = map(int, input().split())\n",
    "if(n < 0 and m < 0): print(\"Yes\")\n",
    "else: print(\"No\")"
   ]
  },
  {
   "cell_type": "code",
   "execution_count": 41,
   "id": "0823f144-2bf3-49c8-9390-4eec880c2a83",
   "metadata": {},
   "outputs": [
    {
     "name": "stdin",
     "output_type": "stream",
     "text": [
      " mouse\n",
      " cat\n"
     ]
    },
    {
     "name": "stdout",
     "output_type": "stream",
     "text": [
      "True\n"
     ]
    }
   ],
   "source": [
    "#8\n",
    "m = input()\n",
    "n = input()\n",
    "if(len(m) > len(n)): print(\"True\")\n",
    "else: print(\"False\")"
   ]
  },
  {
   "cell_type": "code",
   "execution_count": 52,
   "id": "46acdd89-175c-4442-9035-27f37a61f535",
   "metadata": {},
   "outputs": [
    {
     "name": "stdin",
     "output_type": "stream",
     "text": [
      " 1 0 10\n"
     ]
    },
    {
     "name": "stdout",
     "output_type": "stream",
     "text": [
      "No\n"
     ]
    }
   ],
   "source": [
    "#9\n",
    "a, b, c = map(int, input().split())\n",
    "if(a+b>=c and b+c>=a and c+a>=b):\n",
    "    print(\"Yes\")\n",
    "else: print(\"No\")"
   ]
  },
  {
   "cell_type": "code",
   "execution_count": 58,
   "id": "af49d4e3-19a5-44ea-ac59-2574ab53acad",
   "metadata": {},
   "outputs": [
    {
     "name": "stdin",
     "output_type": "stream",
     "text": [
      " 2\n",
      " 7\n",
      " 3\n",
      " 5\n"
     ]
    },
    {
     "name": "stdout",
     "output_type": "stream",
     "text": [
      "7\n"
     ]
    }
   ],
   "source": [
    "#10\n",
    "res = int(input())\n",
    "for i in range(3):\n",
    "    x = int(input())\n",
    "    res = max(x, res)\n",
    "print(res)"
   ]
  },
  {
   "cell_type": "code",
   "execution_count": 63,
   "id": "62d1979a-48ae-46a9-87e1-1b5c4fd8f124",
   "metadata": {},
   "outputs": [
    {
     "name": "stdin",
     "output_type": "stream",
     "text": [
      " 2 4 10\n"
     ]
    },
    {
     "name": "stdout",
     "output_type": "stream",
     "text": [
      "Không phải tam giác\n"
     ]
    }
   ],
   "source": [
    "#11\n",
    "a, b, c = map(int, input().split())\n",
    "if(a+b>=c and b+c>=a and c+a>=b):\n",
    "    if(a == b or b == c or c==a):\n",
    "        if(a == b and b == c):\n",
    "            print(\"Tam giác đều\")\n",
    "        else: print(\"Tam giác cân\")\n",
    "    else: print(\"Tam giác thường\")\n",
    "else: print(\"Không phải tam giác\")"
   ]
  },
  {
   "cell_type": "code",
   "execution_count": 66,
   "id": "272f4f30-3729-4643-8d3a-c00e979976e1",
   "metadata": {},
   "outputs": [
    {
     "name": "stdin",
     "output_type": "stream",
     "text": [
      " 2004\n"
     ]
    },
    {
     "name": "stdout",
     "output_type": "stream",
     "text": [
      "Yes\n"
     ]
    }
   ],
   "source": [
    "#12\n",
    "a = int(input())\n",
    "if((a % 4 == 0) and (a % 100 != 0) or (a % 400 == 0)):\n",
    "    print(\"Yes\")\n",
    "else: print(\"No\")"
   ]
  },
  {
   "cell_type": "code",
   "execution_count": 69,
   "id": "40521042-0ff7-49b0-9c3b-620554eac7f8",
   "metadata": {},
   "outputs": [
    {
     "name": "stdin",
     "output_type": "stream",
     "text": [
      " 70\n"
     ]
    },
    {
     "name": "stdout",
     "output_type": "stream",
     "text": [
      "115000\n"
     ]
    }
   ],
   "source": [
    "#13\n",
    "a = int(input())\n",
    "s = 0\n",
    "s += 1500 * min(a, 50)\n",
    "s += 2000 * max(0, min(a - 50 , 50))\n",
    "s += 3000 * max(0, a - 100)\n",
    "print(s)"
   ]
  },
  {
   "cell_type": "code",
   "execution_count": 78,
   "id": "ae3b716e-6180-47f5-b302-1925100db067",
   "metadata": {},
   "outputs": [
    {
     "name": "stdin",
     "output_type": "stream",
     "text": [
      " 0.23 99.1\n"
     ]
    },
    {
     "name": "stdout",
     "output_type": "stream",
     "text": [
      "-430.87\n"
     ]
    }
   ],
   "source": [
    "#14\n",
    "a, b = map(float, input().split())\n",
    "if(a == 0 and b != 0): print(\"Vô nghiệm\")\n",
    "if(a == 0 and b == 0): print(\"Vô số nghiệm\")\n",
    "else: print(f\"{-b/a:.2f}\")"
   ]
  },
  {
   "cell_type": "code",
   "execution_count": 1,
   "id": "65a0a544-9898-4272-be21-9295097050e3",
   "metadata": {},
   "outputs": [
    {
     "name": "stdin",
     "output_type": "stream",
     "text": [
      " 7.3\n"
     ]
    },
    {
     "name": "stdout",
     "output_type": "stream",
     "text": [
      "Khá\n"
     ]
    }
   ],
   "source": [
    "a = float(input())\n",
    "if(a >= 8.0): print(\"Giỏi\")\n",
    "elif(a >= 6.5): print(\"Khá\")\n",
    "elif(a >= 5.0): print(\"Trung bình\")\n",
    "else: print(\"Yếu\")"
   ]
  },
  {
   "cell_type": "code",
   "execution_count": 9,
   "id": "fedf0ed7-387f-4def-a7dc-aae6a5e8a1c2",
   "metadata": {},
   "outputs": [
    {
     "name": "stdin",
     "output_type": "stream",
     "text": [
      " -5.8\n"
     ]
    },
    {
     "name": "stdout",
     "output_type": "stream",
     "text": [
      "-6 -5 -6\n"
     ]
    }
   ],
   "source": [
    "a = float(input())\n",
    "if(a >= 0):\n",
    "    x = int(a) + ((a - int(a)) != 0)\n",
    "    y = int(a)\n",
    "    z = int(a) + ((a - int(a))>= 0.5)\n",
    "else:\n",
    "    x = int(a) - ((int(a) - a) != 0)\n",
    "    y = int(a)\n",
    "    z = int(a) - ((int(a) - a) >= 0.5)\n",
    "print(f\"{x} {y} {z}\")"
   ]
  },
  {
   "cell_type": "code",
   "execution_count": null,
   "id": "51eba1ae-bf5f-4d98-99b1-a19cb83ccf3d",
   "metadata": {},
   "outputs": [],
   "source": []
  }
 ],
 "metadata": {
  "kernelspec": {
   "display_name": "Python [conda env:base] *",
   "language": "python",
   "name": "conda-base-py"
  },
  "language_info": {
   "codemirror_mode": {
    "name": "ipython",
    "version": 3
   },
   "file_extension": ".py",
   "mimetype": "text/x-python",
   "name": "python",
   "nbconvert_exporter": "python",
   "pygments_lexer": "ipython3",
   "version": "3.13.5"
  }
 },
 "nbformat": 4,
 "nbformat_minor": 5
}
